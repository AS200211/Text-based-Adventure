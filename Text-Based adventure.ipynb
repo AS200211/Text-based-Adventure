{
 "cells": [
  {
   "cell_type": "code",
   "execution_count": 5,
   "id": "c51ec3b1",
   "metadata": {},
   "outputs": [
    {
     "name": "stdout",
     "output_type": "stream",
     "text": [
      "\n",
      "WELCOME! LET'S START THE ADVENTURE\n",
      "\n",
      "You are standing outside of your house and a thief inside your house.\n",
      "\n",
      "is thief is visible(Yes / No)\n",
      "\n",
      ">>yes\n",
      "\n",
      "is thief 10 meter away?(Yes / No)\n",
      "\n",
      ">>no\n",
      "\n",
      "is thief on flank?\n",
      ">>no\n",
      "\n",
      "Attack on the thief.You won the game\n"
     ]
    }
   ],
   "source": [
    "answer_yes = [\"Yes\", \"Y\", \"yes\", \"y\"]\n",
    "answer_no = [\"No\", \"N\", \"no\", \"n\"]\n",
    "\n",
    "print(\"\"\"\n",
    "WELCOME! LET'S START THE ADVENTURE\n",
    "\n",
    "You are standing outside of your house and a thief inside your house.\n",
    "\n",
    "is thief is visible(Yes / No)\n",
    "\"\"\")\n",
    "\n",
    "\n",
    "ans1 = input(\">>\")\n",
    "\n",
    "if ans1 in answer_yes:\n",
    "    print(\"\\nis thief 10 meter away?(Yes / No)\\n\")\n",
    "    ans2 = input(\">>\")\n",
    "\n",
    "    if ans2 in answer_yes:\n",
    "        print(\"\\nYou have to attack on thief. You won the Game\")\n",
    "\n",
    "    else:\n",
    "        \n",
    "        print(\"\\nis thief on flank?\")\n",
    "        \n",
    "        ans3 = input(\">>\")\n",
    "        \n",
    "        if ans3 in answer_yes:\n",
    "            print(\"\\nYou have to move from the place and call police for help\")\n",
    "            print(\"\\nIs police caught the thief\")\n",
    "            ans4 = input(\">>\")\n",
    "            if ans4 in answer_yes:\n",
    "                print(\"You won the game.\")\n",
    "        \n",
    "        else:\n",
    "            print(\"\\nAttack on the thief.You won the game\")\n",
    "\n",
    "elif ans1 in answer_no:\n",
    "    print(\"\\nis thief audible?(Yes / No)\\n\")\n",
    "\n",
    "    ans3 = input(\">>\")\n",
    "\n",
    "    if ans3 in answer_yes:\n",
    "        print(\"\\nyou have to creep on the floor and move ahead and locked all the doors than call the police\")\n",
    "        \n",
    "        print(\"\\n is police caught the thief?(Yes/No)\")\n",
    "        \n",
    "        ans4 = input(\">>\")\n",
    "        if ans4 in answer_yes:\n",
    "            print(\"You won the game\")\n",
    "            \n",
    "        else:\n",
    "            print(\"you loss.\")\n",
    "    \n"
   ]
  },
  {
   "cell_type": "code",
   "execution_count": null,
   "id": "412f4e75",
   "metadata": {},
   "outputs": [],
   "source": []
  }
 ],
 "metadata": {
  "kernelspec": {
   "display_name": "Python 3",
   "language": "python",
   "name": "python3"
  },
  "language_info": {
   "codemirror_mode": {
    "name": "ipython",
    "version": 3
   },
   "file_extension": ".py",
   "mimetype": "text/x-python",
   "name": "python",
   "nbconvert_exporter": "python",
   "pygments_lexer": "ipython3",
   "version": "3.8.8"
  }
 },
 "nbformat": 4,
 "nbformat_minor": 5
}
